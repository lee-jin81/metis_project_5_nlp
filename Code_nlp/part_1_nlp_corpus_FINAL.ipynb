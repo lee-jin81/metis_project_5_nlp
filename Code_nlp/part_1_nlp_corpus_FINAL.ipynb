{
 "cells": [
  {
   "cell_type": "markdown",
   "id": "9fed7697",
   "metadata": {},
   "source": [
    "# NLP medical transcripts"
   ]
  },
  {
   "cell_type": "code",
   "execution_count": 1,
   "id": "1c9a4f5a",
   "metadata": {},
   "outputs": [],
   "source": [
    "import pandas as pd\n",
    "pd.set_option('display.max_colwidth', 100)\n",
    "\n",
    "import numpy as np\n",
    "\n",
    "# visualization\n",
    "import matplotlib.pyplot as plt\n",
    "import seaborn as sns\n",
    "\n",
    "# regex\n",
    "import re\n",
    "import string\n",
    "\n",
    "# nlp clean raw data\n",
    "# import nltk\n",
    "from nltk.tokenize import word_tokenize, sent_tokenize, RegexpTokenizer\n",
    "from nltk.corpus import stopwords\n",
    "\n",
    "# stemming\n",
    "from nltk.stem import WordNetLemmatizer\n",
    "\n",
    "# pickle\n",
    "import pickle"
   ]
  },
  {
   "cell_type": "markdown",
   "id": "50d3c502",
   "metadata": {},
   "source": [
    "## 1. EDA"
   ]
  },
  {
   "cell_type": "markdown",
   "id": "1e8dc6ea",
   "metadata": {},
   "source": [
    "### 1a. Cleaning in excel\n",
    "* In excel, removed categories: autopsy, dentistry, cosmetic/plastic surgery, sleep medicine, sleep language, surgery\n"
   ]
  },
  {
   "cell_type": "code",
   "execution_count": 2,
   "id": "4203ff54",
   "metadata": {},
   "outputs": [],
   "source": [
    "df = pd.read_excel(\"mts_v1.xlsx\")"
   ]
  },
  {
   "cell_type": "code",
   "execution_count": 3,
   "id": "d3bc7770",
   "metadata": {},
   "outputs": [
    {
     "data": {
      "text/html": [
       "<div>\n",
       "<style scoped>\n",
       "    .dataframe tbody tr th:only-of-type {\n",
       "        vertical-align: middle;\n",
       "    }\n",
       "\n",
       "    .dataframe tbody tr th {\n",
       "        vertical-align: top;\n",
       "    }\n",
       "\n",
       "    .dataframe thead th {\n",
       "        text-align: right;\n",
       "    }\n",
       "</style>\n",
       "<table border=\"1\" class=\"dataframe\">\n",
       "  <thead>\n",
       "    <tr style=\"text-align: right;\">\n",
       "      <th></th>\n",
       "      <th>id</th>\n",
       "      <th>description</th>\n",
       "      <th>medical_specialty</th>\n",
       "      <th>diagnosis</th>\n",
       "      <th>transcription</th>\n",
       "      <th>keywords</th>\n",
       "    </tr>\n",
       "  </thead>\n",
       "  <tbody>\n",
       "    <tr>\n",
       "      <th>0</th>\n",
       "      <td>0</td>\n",
       "      <td>A 23-year-old white female presents with complaint of allergies.</td>\n",
       "      <td>Allergy / Immunology</td>\n",
       "      <td>Allergic Rhinitis</td>\n",
       "      <td>SUBJECTIVE:,  This 23-year-old white female presents with complaint of allergies.  She used to h...</td>\n",
       "      <td>allergy / immunology, allergic rhinitis, allergies, asthma, nasal sprays, rhinitis, nasal, eryth...</td>\n",
       "    </tr>\n",
       "  </tbody>\n",
       "</table>\n",
       "</div>"
      ],
      "text/plain": [
       "   id                                                        description  \\\n",
       "0   0   A 23-year-old white female presents with complaint of allergies.   \n",
       "\n",
       "       medical_specialty            diagnosis  \\\n",
       "0   Allergy / Immunology   Allergic Rhinitis    \n",
       "\n",
       "                                                                                         transcription  \\\n",
       "0  SUBJECTIVE:,  This 23-year-old white female presents with complaint of allergies.  She used to h...   \n",
       "\n",
       "                                                                                              keywords  \n",
       "0  allergy / immunology, allergic rhinitis, allergies, asthma, nasal sprays, rhinitis, nasal, eryth...  "
      ]
     },
     "execution_count": 3,
     "metadata": {},
     "output_type": "execute_result"
    }
   ],
   "source": [
    "df.head(1)"
   ]
  },
  {
   "cell_type": "code",
   "execution_count": null,
   "id": "9590cf44",
   "metadata": {},
   "outputs": [],
   "source": [
    "# check for duplicates\n",
    "#df[df['transcription'].duplicated()].head(5)"
   ]
  },
  {
   "cell_type": "code",
   "execution_count": 4,
   "id": "554974e1",
   "metadata": {},
   "outputs": [],
   "source": [
    "# Drop the rows where at least one element is missing\n",
    "df = df.dropna()"
   ]
  },
  {
   "cell_type": "code",
   "execution_count": 5,
   "id": "823e05cf",
   "metadata": {},
   "outputs": [],
   "source": [
    "# create a column for length of transcription\n",
    "df['len_transcript'] = df.transcription.apply(lambda x: len(x.split(' ')))"
   ]
  },
  {
   "cell_type": "code",
   "execution_count": null,
   "id": "bbe12738",
   "metadata": {},
   "outputs": [],
   "source": [
    "# check for duplicates\n",
    "#df[df['transcription'].duplicated()].head(5)"
   ]
  },
  {
   "cell_type": "code",
   "execution_count": 6,
   "id": "652d8e1a",
   "metadata": {},
   "outputs": [],
   "source": [
    "# drop rows with same duplicated transcription\n",
    "df = df.drop_duplicates(subset = ['transcription']) "
   ]
  },
  {
   "cell_type": "code",
   "execution_count": null,
   "id": "4710e1a1",
   "metadata": {},
   "outputs": [],
   "source": [
    "# double check no duplicated\n",
    "#df2[df2['transcription'].duplicated()]"
   ]
  },
  {
   "cell_type": "code",
   "execution_count": null,
   "id": "491523b1",
   "metadata": {},
   "outputs": [],
   "source": [
    "# check for transcript < 9\n",
    "# df[df.len_transcript < 9].sort_values(by='len_transcript', ascending=False)"
   ]
  },
  {
   "cell_type": "code",
   "execution_count": 7,
   "id": "b2a1757b",
   "metadata": {},
   "outputs": [],
   "source": [
    "# create a subset\n",
    "# drop rows where transcription len < 9\n",
    "df2 = df[df.len_transcript > 9]"
   ]
  },
  {
   "cell_type": "code",
   "execution_count": null,
   "id": "14e9dd41",
   "metadata": {},
   "outputs": [],
   "source": [
    "# check if removed\n",
    "# df2[df2.len_transcript < 9]"
   ]
  },
  {
   "cell_type": "code",
   "execution_count": 8,
   "id": "4208aa32",
   "metadata": {},
   "outputs": [
    {
     "data": {
      "text/html": [
       "<div>\n",
       "<style scoped>\n",
       "    .dataframe tbody tr th:only-of-type {\n",
       "        vertical-align: middle;\n",
       "    }\n",
       "\n",
       "    .dataframe tbody tr th {\n",
       "        vertical-align: top;\n",
       "    }\n",
       "\n",
       "    .dataframe thead th {\n",
       "        text-align: right;\n",
       "    }\n",
       "</style>\n",
       "<table border=\"1\" class=\"dataframe\">\n",
       "  <thead>\n",
       "    <tr style=\"text-align: right;\">\n",
       "      <th></th>\n",
       "      <th>id</th>\n",
       "      <th>description</th>\n",
       "      <th>medical_specialty</th>\n",
       "      <th>diagnosis</th>\n",
       "      <th>transcription</th>\n",
       "      <th>keywords</th>\n",
       "      <th>len_transcript</th>\n",
       "    </tr>\n",
       "  </thead>\n",
       "  <tbody>\n",
       "    <tr>\n",
       "      <th>0</th>\n",
       "      <td>0</td>\n",
       "      <td>A 23-year-old white female presents with complaint of allergies.</td>\n",
       "      <td>Allergy / Immunology</td>\n",
       "      <td>Allergic Rhinitis</td>\n",
       "      <td>SUBJECTIVE:,  This 23-year-old white female presents with complaint of allergies.  She used to h...</td>\n",
       "      <td>allergy / immunology, allergic rhinitis, allergies, asthma, nasal sprays, rhinitis, nasal, eryth...</td>\n",
       "      <td>226</td>\n",
       "    </tr>\n",
       "    <tr>\n",
       "      <th>1</th>\n",
       "      <td>1</td>\n",
       "      <td>Consult for laparoscopic gastric bypass.</td>\n",
       "      <td>Bariatrics</td>\n",
       "      <td>Laparoscopic Gastric Bypass Consult - 2</td>\n",
       "      <td>PAST MEDICAL HISTORY:, He has difficulty climbing stairs, difficulty with airline seats, tying s...</td>\n",
       "      <td>bariatrics, laparoscopic gastric bypass, weight loss programs, gastric bypass, atkin's diet, wei...</td>\n",
       "      <td>375</td>\n",
       "    </tr>\n",
       "  </tbody>\n",
       "</table>\n",
       "</div>"
      ],
      "text/plain": [
       "   id                                                        description  \\\n",
       "0   0   A 23-year-old white female presents with complaint of allergies.   \n",
       "1   1                           Consult for laparoscopic gastric bypass.   \n",
       "\n",
       "       medical_specialty                                  diagnosis  \\\n",
       "0   Allergy / Immunology                         Allergic Rhinitis    \n",
       "1             Bariatrics   Laparoscopic Gastric Bypass Consult - 2    \n",
       "\n",
       "                                                                                         transcription  \\\n",
       "0  SUBJECTIVE:,  This 23-year-old white female presents with complaint of allergies.  She used to h...   \n",
       "1  PAST MEDICAL HISTORY:, He has difficulty climbing stairs, difficulty with airline seats, tying s...   \n",
       "\n",
       "                                                                                              keywords  \\\n",
       "0  allergy / immunology, allergic rhinitis, allergies, asthma, nasal sprays, rhinitis, nasal, eryth...   \n",
       "1  bariatrics, laparoscopic gastric bypass, weight loss programs, gastric bypass, atkin's diet, wei...   \n",
       "\n",
       "   len_transcript  \n",
       "0             226  \n",
       "1             375  "
      ]
     },
     "execution_count": 8,
     "metadata": {},
     "output_type": "execute_result"
    }
   ],
   "source": [
    "df2.head(2)"
   ]
  },
  {
   "cell_type": "code",
   "execution_count": 9,
   "id": "32873d25",
   "metadata": {},
   "outputs": [
    {
     "data": {
      "text/plain": [
       "(1740, 7)"
      ]
     },
     "execution_count": 9,
     "metadata": {},
     "output_type": "execute_result"
    }
   ],
   "source": [
    "df2.shape"
   ]
  },
  {
   "cell_type": "code",
   "execution_count": null,
   "id": "20fb99bb",
   "metadata": {},
   "outputs": [],
   "source": [
    "#plt.figure(figsize=[10,8])\n",
    "#df2.medical_specialty.value_counts().plot.barh()"
   ]
  },
  {
   "cell_type": "markdown",
   "id": "6e54817a",
   "metadata": {},
   "source": [
    "### 1b. Create corpus"
   ]
  },
  {
   "cell_type": "code",
   "execution_count": 10,
   "id": "24199be5",
   "metadata": {},
   "outputs": [],
   "source": [
    "# column of text is transcription\n",
    "# corpus list of strings \n",
    "corpus = list(df2.transcription)"
   ]
  },
  {
   "cell_type": "code",
   "execution_count": 11,
   "id": "441b9682",
   "metadata": {},
   "outputs": [
    {
     "data": {
      "text/plain": [
       "'SUBJECTIVE:,  This 23-year-old white female presents with complaint of allergies.  She used to have allergies when she lived in Seattle but she thinks they are worse here.  In the past, she has tried Claritin, and Zyrtec.  Both worked for short time but then seemed to lose effectiveness.  She has used Allegra also.  She used that last summer and she began using it again two weeks ago.  It does not appear to be working very well.  She has used over-the-counter sprays but no prescription nasal sprays.  She does have asthma but doest not require daily medication for this and does not think it is flaring up.,MEDICATIONS: , Her only medication currently is Ortho Tri-Cyclen and the Allegra.,ALLERGIES: , She has no known medicine allergies.,OBJECTIVE:,Vitals:  Weight was 130 pounds and blood pressure 124/78.,HEENT:  Her throat was mildly erythematous without exudate.  Nasal mucosa was erythematous and swollen.  Only clear drainage was seen.  TMs were clear.,Neck:  Supple without adenopathy.,Lungs:  Clear.,ASSESSMENT:,  Allergic rhinitis.,PLAN:,1.  She will try Zyrtec instead of Allegra again.  Another option will be to use loratadine.  She does not think she has prescription coverage so that might be cheaper.,2.  Samples of Nasonex two sprays in each nostril given for three weeks.  A prescription was written as well.'"
      ]
     },
     "execution_count": 11,
     "metadata": {},
     "output_type": "execute_result"
    }
   ],
   "source": [
    "corpus[0]"
   ]
  },
  {
   "cell_type": "code",
   "execution_count": 12,
   "id": "4fc66b9e",
   "metadata": {},
   "outputs": [
    {
     "name": "stdout",
     "output_type": "stream",
     "text": [
      "total documents : 1740\n"
     ]
    }
   ],
   "source": [
    "print(\"total documents :\", len(corpus))"
   ]
  },
  {
   "cell_type": "code",
   "execution_count": 13,
   "id": "6e039342",
   "metadata": {},
   "outputs": [
    {
     "name": "stdout",
     "output_type": "stream",
     "text": [
      "total length of all documents:  749819\n"
     ]
    }
   ],
   "source": [
    "totalLength = []\n",
    "for i, doc in enumerate(corpus):\n",
    "    \n",
    "    # split words in doc \n",
    "    totalLength.append(len(doc.split(' ')))\n",
    "    \n",
    "print(\"total length of all documents: \", sum(totalLength))"
   ]
  },
  {
   "cell_type": "code",
   "execution_count": 14,
   "id": "d431d575",
   "metadata": {},
   "outputs": [
    {
     "name": "stdout",
     "output_type": "stream",
     "text": [
      "average length 430\n",
      "max length 2096\n",
      "min length 10\n"
     ]
    }
   ],
   "source": [
    "average = sum(totalLength)/ len(totalLength)\n",
    "print('average length', int(average))\n",
    "print('max length', max(totalLength))\n",
    "print('min length', min(totalLength))"
   ]
  },
  {
   "cell_type": "code",
   "execution_count": null,
   "id": "efb6dd52",
   "metadata": {},
   "outputs": [],
   "source": [
    "# save corpus as pickle\n",
    "#with open(\"corpus_transcripts.pickle\", \"wb\") as f:\n",
    "    #pickle.dump(corpus, f)"
   ]
  },
  {
   "cell_type": "markdown",
   "id": "1e526038",
   "metadata": {},
   "source": [
    "## Load corpus"
   ]
  },
  {
   "cell_type": "code",
   "execution_count": 15,
   "id": "ab7491d5",
   "metadata": {},
   "outputs": [],
   "source": [
    "# load pickle\n",
    "# open pickle\n",
    "with open(\"corpus_transcripts.pickle\", \"rb\") as f:\n",
    "    corpus = pickle.load(f)"
   ]
  },
  {
   "cell_type": "code",
   "execution_count": 16,
   "id": "d067e28b",
   "metadata": {},
   "outputs": [
    {
     "data": {
      "text/plain": [
       "\"PREOPERATIVE DIAGNOSIS:,  Left inguinal hernia.,POSTOPERATIVE DIAGNOSIS:, Left direct and indirect inguinal hernia.,PROCEDURE PERFORMED:, Repair of left inguinal hernia with Prolene mesh.,ANESTHESIA: , IV sedation with local.,COMPLICATIONS:,  None.,DISPOSITION:  ,The patient tolerated the procedure well and was transferred to Recovery in stable condition.,SPECIMEN: , Hernia sac, as well as turbid fluid with gram stain, which came back with no organisms from the hernia sac.,BRIEF HISTORY:  ,This is a 53-year-old male who presented to Dr. Y's office with a bulge in the left groin and was found to have a left inguinal hernia increasing over the past several months.  The patient has a history of multiple abdominal surgeries and opted for an open left inguinal hernial repair with Prolene mesh.,INTRAOPERATIVE FINDINGS: , The patient was found to have a direct as well as an indirect component to the left inguinal hernia with a large sac.  The patient was also found to have some turbid fluid within the hernia sac, which was sent down for gram stain and turned out to be negative with no organisms.,PROCEDURE: , After informed consent, risks and benefits of the procedure were explained to the patient, the patient was brought to the operative suite, prepped and draped in the normal sterile fashion.  The left inguinal ligament was identified from the pubic tubercle to the ASIS.  Two fingerbreadths above the pubic tubercle, a transverse incision was made.  First, the skin was anesthetized with 1% lidocaine and then an incision was made with a #15 blade scalpel, approximately 6 cm in length.  Dissection was then carried down with electro Bovie cautery through Scarpa's fascia maintaining hemostasis.  Once the external oblique was identified, external oblique was incised in the length of its fibers with a #15 blade scalpel.  Metzenbaum scissors were then used to extend the incision in both directions opening up the external oblique down to the external ring.  Next, the external oblique was grasped with Ochsner on both sides.  The cord, cord structures as well as hernia sac were freed up circumferentially and a Penrose drain was placed around it.  Next, the hernia sac was identified and the anteromedial portion of the hernia sac was stripped down, grasped with two hemostats.  A Metzenbaum scissor was then used to open the hernia sac and the hernia sac was explored.  There was some turbid fluid within the hernia sac, which was sent down for cultures.  Gram stain was negative for organisms.  Next, the hernia sac was to be ligated at its base and transected.  A peon was used at the base.  Metzenbaum scissor was used to cut the hernia sac and sending it off as a specimen.  An #0 Vicryl stick suture was used with #0 Vicryl loop suture to suture ligate the hernia sac at its base.,Next, attention was made to placing a Prolene mesh to cover the floor.  The mesh was sutured to the pubic tubercle medially along the ilioinguinal ligament inferiorly and along the conjoint tendon superiorly making a slit for the cord and cord structures.  Attention was made to salvaging the ilioinguinal nerve, which was left above the repair of the mesh and below the external oblique once closed and appeared to be intact.  Attention was next made after suturing the mesh with the #2-0 Polydek suture.  The external oblique was then closed over the roof with a running #0 Vicryl suture, taking care not to strangulate the cord and to recreate the external ring.  After injecting the external oblique and cord structures with Marcaine for anesthetic, the Scarpa's fascia was approximated with interrupted #3-0 Vicryl sutures.  The skin was closed with a running subcuticular #4-0 undyed Vicryl suture.  Steri-Strip with sterile dressings were applied.,The patient tolerated the procedure well and was transferred to Recovery in stable condition.\""
      ]
     },
     "execution_count": 16,
     "metadata": {},
     "output_type": "execute_result"
    }
   ],
   "source": [
    "corpus[92]"
   ]
  },
  {
   "cell_type": "markdown",
   "id": "b347ceec",
   "metadata": {},
   "source": [
    "## 2. Preprocess"
   ]
  },
  {
   "cell_type": "markdown",
   "id": "8dc64662",
   "metadata": {},
   "source": [
    "### 2a. Clean, tokenize, remove stop words"
   ]
  },
  {
   "cell_type": "code",
   "execution_count": 17,
   "id": "3a25ea89",
   "metadata": {},
   "outputs": [],
   "source": [
    "# tokenize \n",
    "def isValidToken(token):\n",
    "    # single letter\n",
    "    # double letters, like roman numerals\n",
    "    if len(token) <= 3:\n",
    "        return False\n",
    "    \n",
    "    # check for any digits in token, e.g. h8, 8\n",
    "    # essentially removes any token that contains a digit\n",
    "    if re.search('\\d', token) != None:\n",
    "        return False\n",
    "    \n",
    "    return True"
   ]
  },
  {
   "cell_type": "code",
   "execution_count": 18,
   "id": "5507d481",
   "metadata": {},
   "outputs": [],
   "source": [
    "def cleanDoc(corpus):\n",
    "    \n",
    "    newCorpus = []\n",
    "    for i in corpus:\n",
    "\n",
    "        # remove all punctuations\n",
    "        new_i = re.sub('[%s]' % re.escape(string.punctuation), ' ', i)\n",
    "        \n",
    "        # tokenize each doc --> list of words\n",
    "        tokens = word_tokenize(new_i)\n",
    "        \n",
    "        new_tokens = []\n",
    "        bad_tokens = []\n",
    "        stem = []\n",
    "        \n",
    "        \n",
    "        # check for valid tokens\n",
    "        for token in tokens:\n",
    "            # lowercase all tokens\n",
    "            token = token.lower()\n",
    "            \n",
    "            lemmaTrue = []\n",
    "            if isValidToken(token):\n",
    "                #lemmatize\n",
    "                wn = WordNetLemmatizer()\n",
    "                lemma = wn.lemmatize(token)\n",
    "                new_tokens.append(lemma)\n",
    "                    \n",
    "            else:\n",
    "                bad_tokens.append(token)\n",
    "\n",
    "        # put tokens back in a list\n",
    "        newCorpus.append(\" \".join(new_tokens))\n",
    "    \n",
    "    # print(\"Bad tokens:\", set(bad_tokens))\n",
    "    return newCorpus"
   ]
  },
  {
   "cell_type": "code",
   "execution_count": 19,
   "id": "57e5c9c4",
   "metadata": {},
   "outputs": [],
   "source": [
    "# create a list of strings\n",
    "cleanCorpus = cleanDoc(corpus)"
   ]
  },
  {
   "cell_type": "code",
   "execution_count": 20,
   "id": "4d3ba664",
   "metadata": {},
   "outputs": [
    {
     "data": {
      "text/plain": [
       "1740"
      ]
     },
     "execution_count": 20,
     "metadata": {},
     "output_type": "execute_result"
    }
   ],
   "source": [
    "len(cleanCorpus)"
   ]
  },
  {
   "cell_type": "code",
   "execution_count": 21,
   "id": "cb9dd776",
   "metadata": {},
   "outputs": [
    {
     "data": {
      "text/plain": [
       "'subjective this year white female present with complaint allergy used have allergy when lived seattle think they worse here past tried claritin zyrtec both worked short time then seemed lose effectiveness used allegra also used that last summer began using again week doe appear working very well used over counter spray prescription nasal spray doe have asthma doest require daily medication this doe think flaring medication only medication currently ortho cyclen allegra allergy known medicine allergy objective vitals weight pound blood pressure heent throat mildly erythematous without exudate nasal mucosa erythematous swollen only clear drainage seen were clear neck supple without adenopathy lung clear assessment allergic rhinitis plan will zyrtec instead allegra again another option will loratadine doe think prescription coverage that might cheaper sample nasonex spray each nostril given three week prescription written well'"
      ]
     },
     "execution_count": 21,
     "metadata": {},
     "output_type": "execute_result"
    }
   ],
   "source": [
    "cleanCorpus[0]"
   ]
  },
  {
   "cell_type": "code",
   "execution_count": null,
   "id": "a7ce8514",
   "metadata": {},
   "outputs": [],
   "source": [
    "# save as a pickle \n",
    "#with open(\"cleanCorpus.pickle\", \"wb\") as f:\n",
    "    #pickle.dump(cleanCorpus, f)"
   ]
  },
  {
   "cell_type": "code",
   "execution_count": null,
   "id": "e61c3872",
   "metadata": {},
   "outputs": [],
   "source": []
  }
 ],
 "metadata": {
  "kernelspec": {
   "display_name": "Python 3 (unsupervised)",
   "language": "python",
   "name": "unsupervised"
  },
  "language_info": {
   "codemirror_mode": {
    "name": "ipython",
    "version": 3
   },
   "file_extension": ".py",
   "mimetype": "text/x-python",
   "name": "python",
   "nbconvert_exporter": "python",
   "pygments_lexer": "ipython3",
   "version": "3.9.7"
  }
 },
 "nbformat": 4,
 "nbformat_minor": 5
}
